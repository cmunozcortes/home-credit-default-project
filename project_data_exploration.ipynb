{
 "cells": [
  {
   "cell_type": "markdown",
   "metadata": {
    "colab_type": "text",
    "id": "view-in-github"
   },
   "source": [
    "<a href=\"https://colab.research.google.com/github/cmunozcortes/home-credit-default-project/blob/main/project_data_exploration.ipynb\" target=\"_parent\"><img src=\"https://colab.research.google.com/assets/colab-badge.svg\" alt=\"Open In Colab\"/></a>"
   ]
  },
  {
   "cell_type": "markdown",
   "metadata": {
    "id": "LdI6K5KzP7ac"
   },
   "source": [
    "# Data exploration\n",
    "\n",
    "\n",
    "1.   Clean the data and fix any issues you see (missing values?). \n",
    "    \n",
    "    I think we should start working only with `application_train|test.csv`. If by the time we have a functional model there is enough time left, we can take a look at the rest of the data, i.e. `bureau.csv`, `previous_application.csv`, etc.\n",
    "\n",
    "2.   Look at the relationship between variables"
   ]
  },
  {
   "cell_type": "markdown",
   "metadata": {
    "id": "1jVOuYzTZn_N"
   },
   "source": [
    "\n",
    "## Load the data"
   ]
  },
  {
   "cell_type": "code",
   "execution_count": 1,
   "metadata": {
    "colab": {
     "base_uri": "https://localhost:8080/"
    },
    "id": "6tvqj90qUBDZ",
    "outputId": "79203db9-afec-40e7-d159-acad30a3ed05"
   },
   "outputs": [],
   "source": [
    "import numpy as np\n",
    "import pandas as pd\n",
    "import matplotlib.pyplot as plt\n",
    "import seaborn as sns\n",
    "import os\n",
    "from sklearn.preprocessing import LabelEncoder\n",
    "\n",
    "if 'google.colab' in str(get_ipython()):\n",
    "    from google.colab import drive\n",
    "    drive.mount('/content/drive')\n",
    "    path = 'drive/MyDrive/CS 249 Project/Data/application_train.csv'\n",
    "else:\n",
    "    path = 'Data/application_train.csv'"
   ]
  },
  {
   "cell_type": "code",
   "execution_count": 2,
   "metadata": {
    "colab": {
     "base_uri": "https://localhost:8080/",
     "height": 338
    },
    "id": "P1U-5eEdX91_",
    "outputId": "ad8d5479-6be5-4ba8-d92e-38cc88a29a3d"
   },
   "outputs": [
    {
     "name": "stdout",
     "output_type": "stream",
     "text": [
      "Training data shape:  (307511, 122)\n"
     ]
    },
    {
     "data": {
      "text/html": [
       "<div>\n",
       "<style scoped>\n",
       "    .dataframe tbody tr th:only-of-type {\n",
       "        vertical-align: middle;\n",
       "    }\n",
       "\n",
       "    .dataframe tbody tr th {\n",
       "        vertical-align: top;\n",
       "    }\n",
       "\n",
       "    .dataframe thead th {\n",
       "        text-align: right;\n",
       "    }\n",
       "</style>\n",
       "<table border=\"1\" class=\"dataframe\">\n",
       "  <thead>\n",
       "    <tr style=\"text-align: right;\">\n",
       "      <th></th>\n",
       "      <th>SK_ID_CURR</th>\n",
       "      <th>TARGET</th>\n",
       "      <th>NAME_CONTRACT_TYPE</th>\n",
       "      <th>CODE_GENDER</th>\n",
       "      <th>FLAG_OWN_CAR</th>\n",
       "      <th>FLAG_OWN_REALTY</th>\n",
       "      <th>CNT_CHILDREN</th>\n",
       "      <th>AMT_INCOME_TOTAL</th>\n",
       "      <th>AMT_CREDIT</th>\n",
       "      <th>AMT_ANNUITY</th>\n",
       "      <th>...</th>\n",
       "      <th>FLAG_DOCUMENT_18</th>\n",
       "      <th>FLAG_DOCUMENT_19</th>\n",
       "      <th>FLAG_DOCUMENT_20</th>\n",
       "      <th>FLAG_DOCUMENT_21</th>\n",
       "      <th>AMT_REQ_CREDIT_BUREAU_HOUR</th>\n",
       "      <th>AMT_REQ_CREDIT_BUREAU_DAY</th>\n",
       "      <th>AMT_REQ_CREDIT_BUREAU_WEEK</th>\n",
       "      <th>AMT_REQ_CREDIT_BUREAU_MON</th>\n",
       "      <th>AMT_REQ_CREDIT_BUREAU_QRT</th>\n",
       "      <th>AMT_REQ_CREDIT_BUREAU_YEAR</th>\n",
       "    </tr>\n",
       "  </thead>\n",
       "  <tbody>\n",
       "    <tr>\n",
       "      <th>0</th>\n",
       "      <td>100002</td>\n",
       "      <td>1</td>\n",
       "      <td>Cash loans</td>\n",
       "      <td>M</td>\n",
       "      <td>N</td>\n",
       "      <td>Y</td>\n",
       "      <td>0</td>\n",
       "      <td>202500.0</td>\n",
       "      <td>406597.5</td>\n",
       "      <td>24700.5</td>\n",
       "      <td>...</td>\n",
       "      <td>0</td>\n",
       "      <td>0</td>\n",
       "      <td>0</td>\n",
       "      <td>0</td>\n",
       "      <td>0.0</td>\n",
       "      <td>0.0</td>\n",
       "      <td>0.0</td>\n",
       "      <td>0.0</td>\n",
       "      <td>0.0</td>\n",
       "      <td>1.0</td>\n",
       "    </tr>\n",
       "    <tr>\n",
       "      <th>1</th>\n",
       "      <td>100003</td>\n",
       "      <td>0</td>\n",
       "      <td>Cash loans</td>\n",
       "      <td>F</td>\n",
       "      <td>N</td>\n",
       "      <td>N</td>\n",
       "      <td>0</td>\n",
       "      <td>270000.0</td>\n",
       "      <td>1293502.5</td>\n",
       "      <td>35698.5</td>\n",
       "      <td>...</td>\n",
       "      <td>0</td>\n",
       "      <td>0</td>\n",
       "      <td>0</td>\n",
       "      <td>0</td>\n",
       "      <td>0.0</td>\n",
       "      <td>0.0</td>\n",
       "      <td>0.0</td>\n",
       "      <td>0.0</td>\n",
       "      <td>0.0</td>\n",
       "      <td>0.0</td>\n",
       "    </tr>\n",
       "    <tr>\n",
       "      <th>2</th>\n",
       "      <td>100004</td>\n",
       "      <td>0</td>\n",
       "      <td>Revolving loans</td>\n",
       "      <td>M</td>\n",
       "      <td>Y</td>\n",
       "      <td>Y</td>\n",
       "      <td>0</td>\n",
       "      <td>67500.0</td>\n",
       "      <td>135000.0</td>\n",
       "      <td>6750.0</td>\n",
       "      <td>...</td>\n",
       "      <td>0</td>\n",
       "      <td>0</td>\n",
       "      <td>0</td>\n",
       "      <td>0</td>\n",
       "      <td>0.0</td>\n",
       "      <td>0.0</td>\n",
       "      <td>0.0</td>\n",
       "      <td>0.0</td>\n",
       "      <td>0.0</td>\n",
       "      <td>0.0</td>\n",
       "    </tr>\n",
       "    <tr>\n",
       "      <th>3</th>\n",
       "      <td>100006</td>\n",
       "      <td>0</td>\n",
       "      <td>Cash loans</td>\n",
       "      <td>F</td>\n",
       "      <td>N</td>\n",
       "      <td>Y</td>\n",
       "      <td>0</td>\n",
       "      <td>135000.0</td>\n",
       "      <td>312682.5</td>\n",
       "      <td>29686.5</td>\n",
       "      <td>...</td>\n",
       "      <td>0</td>\n",
       "      <td>0</td>\n",
       "      <td>0</td>\n",
       "      <td>0</td>\n",
       "      <td>NaN</td>\n",
       "      <td>NaN</td>\n",
       "      <td>NaN</td>\n",
       "      <td>NaN</td>\n",
       "      <td>NaN</td>\n",
       "      <td>NaN</td>\n",
       "    </tr>\n",
       "    <tr>\n",
       "      <th>4</th>\n",
       "      <td>100007</td>\n",
       "      <td>0</td>\n",
       "      <td>Cash loans</td>\n",
       "      <td>M</td>\n",
       "      <td>N</td>\n",
       "      <td>Y</td>\n",
       "      <td>0</td>\n",
       "      <td>121500.0</td>\n",
       "      <td>513000.0</td>\n",
       "      <td>21865.5</td>\n",
       "      <td>...</td>\n",
       "      <td>0</td>\n",
       "      <td>0</td>\n",
       "      <td>0</td>\n",
       "      <td>0</td>\n",
       "      <td>0.0</td>\n",
       "      <td>0.0</td>\n",
       "      <td>0.0</td>\n",
       "      <td>0.0</td>\n",
       "      <td>0.0</td>\n",
       "      <td>0.0</td>\n",
       "    </tr>\n",
       "  </tbody>\n",
       "</table>\n",
       "<p>5 rows × 122 columns</p>\n",
       "</div>"
      ],
      "text/plain": [
       "   SK_ID_CURR  TARGET NAME_CONTRACT_TYPE CODE_GENDER FLAG_OWN_CAR  \\\n",
       "0      100002       1         Cash loans           M            N   \n",
       "1      100003       0         Cash loans           F            N   \n",
       "2      100004       0    Revolving loans           M            Y   \n",
       "3      100006       0         Cash loans           F            N   \n",
       "4      100007       0         Cash loans           M            N   \n",
       "\n",
       "  FLAG_OWN_REALTY  CNT_CHILDREN  AMT_INCOME_TOTAL  AMT_CREDIT  AMT_ANNUITY  \\\n",
       "0               Y             0          202500.0    406597.5      24700.5   \n",
       "1               N             0          270000.0   1293502.5      35698.5   \n",
       "2               Y             0           67500.0    135000.0       6750.0   \n",
       "3               Y             0          135000.0    312682.5      29686.5   \n",
       "4               Y             0          121500.0    513000.0      21865.5   \n",
       "\n",
       "   ...  FLAG_DOCUMENT_18 FLAG_DOCUMENT_19 FLAG_DOCUMENT_20 FLAG_DOCUMENT_21  \\\n",
       "0  ...                 0                0                0                0   \n",
       "1  ...                 0                0                0                0   \n",
       "2  ...                 0                0                0                0   \n",
       "3  ...                 0                0                0                0   \n",
       "4  ...                 0                0                0                0   \n",
       "\n",
       "  AMT_REQ_CREDIT_BUREAU_HOUR AMT_REQ_CREDIT_BUREAU_DAY  \\\n",
       "0                        0.0                       0.0   \n",
       "1                        0.0                       0.0   \n",
       "2                        0.0                       0.0   \n",
       "3                        NaN                       NaN   \n",
       "4                        0.0                       0.0   \n",
       "\n",
       "   AMT_REQ_CREDIT_BUREAU_WEEK  AMT_REQ_CREDIT_BUREAU_MON  \\\n",
       "0                         0.0                        0.0   \n",
       "1                         0.0                        0.0   \n",
       "2                         0.0                        0.0   \n",
       "3                         NaN                        NaN   \n",
       "4                         0.0                        0.0   \n",
       "\n",
       "   AMT_REQ_CREDIT_BUREAU_QRT  AMT_REQ_CREDIT_BUREAU_YEAR  \n",
       "0                        0.0                         1.0  \n",
       "1                        0.0                         0.0  \n",
       "2                        0.0                         0.0  \n",
       "3                        NaN                         NaN  \n",
       "4                        0.0                         0.0  \n",
       "\n",
       "[5 rows x 122 columns]"
      ]
     },
     "execution_count": 2,
     "metadata": {},
     "output_type": "execute_result"
    }
   ],
   "source": [
    "# Load training data\n",
    "train_df = pd.read_csv(path)\n",
    "print('Training data shape: ', train_df.shape)\n",
    "train_df.head()"
   ]
  },
  {
   "cell_type": "markdown",
   "metadata": {
    "id": "7aozvwidZjUU"
   },
   "source": [
    "## EDA\n",
    "\n",
    "Explore the data and address any issues"
   ]
  },
  {
   "cell_type": "markdown",
   "metadata": {
    "id": "lskMWmxBZ6RN"
   },
   "source": [
    "### Is the data balanced?\n",
    "Look at the target column and plot its distribution"
   ]
  },
  {
   "cell_type": "code",
   "execution_count": 3,
   "metadata": {
    "colab": {
     "base_uri": "https://localhost:8080/",
     "height": 282
    },
    "id": "UyW0ntkwZGRU",
    "outputId": "17cd1d4c-fb77-4644-ef81-5e7682487798"
   },
   "outputs": [
    {
     "data": {
      "text/plain": [
       "<AxesSubplot:ylabel='Frequency'>"
      ]
     },
     "execution_count": 3,
     "metadata": {},
     "output_type": "execute_result"
    },
    {
     "data": {
      "image/png": "[encoded data removed]",
      "text/plain": [
       "<Figure size 432x288 with 1 Axes>"
      ]
     },
     "metadata": {
      "needs_background": "light"
     },
     "output_type": "display_data"
    }
   ],
   "source": [
    "train_df.TARGET.plot.hist()"
   ]
  },
  {
   "cell_type": "markdown",
   "metadata": {
    "id": "6JefAiHAaYiG"
   },
   "source": [
    "Clearly the data isn't balanced. The number of loans that were repaid is far greater than the number of loans that were not repaid. We don't need to address this issue right now though."
   ]
  },
  {
   "cell_type": "markdown",
   "metadata": {
    "id": "d7ny-_pIatem"
   },
   "source": [
    "### Are there missing values?"
   ]
  },
  {
   "cell_type": "code",
   "execution_count": 4,
   "metadata": {
    "colab": {
     "base_uri": "https://localhost:8080/",
     "height": 359
    },
    "id": "3jQNoVUIaUHR",
    "outputId": "a2bf0c4b-615d-4cab-cd79-667ea92cbf3a"
   },
   "outputs": [
    {
     "data": {
      "text/html": [
       "<div>\n",
       "<style scoped>\n",
       "    .dataframe tbody tr th:only-of-type {\n",
       "        vertical-align: middle;\n",
       "    }\n",
       "\n",
       "    .dataframe tbody tr th {\n",
       "        vertical-align: top;\n",
       "    }\n",
       "\n",
       "    .dataframe thead th {\n",
       "        text-align: right;\n",
       "    }\n",
       "</style>\n",
       "<table border=\"1\" class=\"dataframe\">\n",
       "  <thead>\n",
       "    <tr style=\"text-align: right;\">\n",
       "      <th></th>\n",
       "      <th>missing_val</th>\n",
       "      <th>missing_val_percent</th>\n",
       "    </tr>\n",
       "  </thead>\n",
       "  <tbody>\n",
       "    <tr>\n",
       "      <th>COMMONAREA_MEDI</th>\n",
       "      <td>214865</td>\n",
       "      <td>69.872297</td>\n",
       "    </tr>\n",
       "    <tr>\n",
       "      <th>COMMONAREA_AVG</th>\n",
       "      <td>214865</td>\n",
       "      <td>69.872297</td>\n",
       "    </tr>\n",
       "    <tr>\n",
       "      <th>COMMONAREA_MODE</th>\n",
       "      <td>214865</td>\n",
       "      <td>69.872297</td>\n",
       "    </tr>\n",
       "    <tr>\n",
       "      <th>NONLIVINGAPARTMENTS_MODE</th>\n",
       "      <td>213514</td>\n",
       "      <td>69.432963</td>\n",
       "    </tr>\n",
       "    <tr>\n",
       "      <th>NONLIVINGAPARTMENTS_AVG</th>\n",
       "      <td>213514</td>\n",
       "      <td>69.432963</td>\n",
       "    </tr>\n",
       "    <tr>\n",
       "      <th>NONLIVINGAPARTMENTS_MEDI</th>\n",
       "      <td>213514</td>\n",
       "      <td>69.432963</td>\n",
       "    </tr>\n",
       "    <tr>\n",
       "      <th>FONDKAPREMONT_MODE</th>\n",
       "      <td>210295</td>\n",
       "      <td>68.386172</td>\n",
       "    </tr>\n",
       "    <tr>\n",
       "      <th>LIVINGAPARTMENTS_MODE</th>\n",
       "      <td>210199</td>\n",
       "      <td>68.354953</td>\n",
       "    </tr>\n",
       "    <tr>\n",
       "      <th>LIVINGAPARTMENTS_AVG</th>\n",
       "      <td>210199</td>\n",
       "      <td>68.354953</td>\n",
       "    </tr>\n",
       "    <tr>\n",
       "      <th>LIVINGAPARTMENTS_MEDI</th>\n",
       "      <td>210199</td>\n",
       "      <td>68.354953</td>\n",
       "    </tr>\n",
       "  </tbody>\n",
       "</table>\n",
       "</div>"
      ],
      "text/plain": [
       "                          missing_val  missing_val_percent\n",
       "COMMONAREA_MEDI                214865            69.872297\n",
       "COMMONAREA_AVG                 214865            69.872297\n",
       "COMMONAREA_MODE                214865            69.872297\n",
       "NONLIVINGAPARTMENTS_MODE       213514            69.432963\n",
       "NONLIVINGAPARTMENTS_AVG        213514            69.432963\n",
       "NONLIVINGAPARTMENTS_MEDI       213514            69.432963\n",
       "FONDKAPREMONT_MODE             210295            68.386172\n",
       "LIVINGAPARTMENTS_MODE          210199            68.354953\n",
       "LIVINGAPARTMENTS_AVG           210199            68.354953\n",
       "LIVINGAPARTMENTS_MEDI          210199            68.354953"
      ]
     },
     "execution_count": 4,
     "metadata": {},
     "output_type": "execute_result"
    }
   ],
   "source": [
    "missing_values = train_df.isna().sum()\n",
    "missing_values_percent = missing_values*100/len(train_df)\n",
    "miss_df = pd.concat(\n",
    "    [missing_values.rename('missing_val'), \n",
    "     missing_values_percent.rename('missing_val_percent')],\n",
    "    axis=1\n",
    ")\n",
    "miss_df.sort_values(by='missing_val_percent', ascending=False).head(10)"
   ]
  },
  {
   "cell_type": "markdown",
   "metadata": {
    "id": "qfbyi-WWiI7w"
   },
   "source": [
    "## Which features are categorical?"
   ]
  },
  {
   "cell_type": "code",
   "execution_count": 5,
   "metadata": {
    "colab": {
     "base_uri": "https://localhost:8080/"
    },
    "id": "RMeC0vCybAuT",
    "outputId": "fb410321-64c9-43f8-ff9f-a6391237133b"
   },
   "outputs": [
    {
     "data": {
      "text/plain": [
       "float64    65\n",
       "int64      41\n",
       "object     16\n",
       "dtype: int64"
      ]
     },
     "execution_count": 5,
     "metadata": {},
     "output_type": "execute_result"
    }
   ],
   "source": [
    "train_df.dtypes.value_counts()"
   ]
  },
  {
   "cell_type": "code",
   "execution_count": 6,
   "metadata": {
    "colab": {
     "base_uri": "https://localhost:8080/"
    },
    "id": "E_MVWVHWiPl_",
    "outputId": "b9f04faf-c2c8-497b-df32-ec9e4e88c1a3"
   },
   "outputs": [
    {
     "data": {
      "text/plain": [
       "NAME_CONTRACT_TYPE             2\n",
       "CODE_GENDER                    3\n",
       "FLAG_OWN_CAR                   2\n",
       "FLAG_OWN_REALTY                2\n",
       "NAME_TYPE_SUITE                7\n",
       "NAME_INCOME_TYPE               8\n",
       "NAME_EDUCATION_TYPE            5\n",
       "NAME_FAMILY_STATUS             6\n",
       "NAME_HOUSING_TYPE              6\n",
       "OCCUPATION_TYPE               18\n",
       "WEEKDAY_APPR_PROCESS_START     7\n",
       "ORGANIZATION_TYPE             58\n",
       "FONDKAPREMONT_MODE             4\n",
       "HOUSETYPE_MODE                 3\n",
       "WALLSMATERIAL_MODE             7\n",
       "EMERGENCYSTATE_MODE            2\n",
       "dtype: int64"
      ]
     },
     "execution_count": 6,
     "metadata": {},
     "output_type": "execute_result"
    }
   ],
   "source": [
    "categorical_features = train_df.select_dtypes('object')\n",
    "categorical_features.nunique()"
   ]
  },
  {
   "cell_type": "markdown",
   "metadata": {
    "id": "U9k04_OCi63a"
   },
   "source": [
    "Encode these categorical features. We can either use one-hot encoding (which we've used in the class) or label encoding. One-hot encoding seems to be the preferred method, with the only caveat that if there's a large number of categories for a feature, the number of one-hot encoded features can explode. A workaround is to use PCA or another dimensionality reduction method.\n",
    "\n",
    "Let's label encode the features with 2 categories and one-hot encode the ones with more than 2."
   ]
  },
  {
   "cell_type": "code",
   "execution_count": 7,
   "metadata": {
    "colab": {
     "base_uri": "https://localhost:8080/"
    },
    "id": "e-5HFccVkHWz",
    "outputId": "336f0d4a-9060-4e64-8639-eebde6fe2195"
   },
   "outputs": [
    {
     "data": {
      "text/plain": [
       "Index(['SK_ID_CURR', 'TARGET', 'NAME_CONTRACT_TYPE', 'CODE_GENDER',\n",
       "       'FLAG_OWN_CAR', 'FLAG_OWN_REALTY', 'CNT_CHILDREN', 'AMT_INCOME_TOTAL',\n",
       "       'AMT_CREDIT', 'AMT_ANNUITY',\n",
       "       ...\n",
       "       'FLAG_DOCUMENT_18', 'FLAG_DOCUMENT_19', 'FLAG_DOCUMENT_20',\n",
       "       'FLAG_DOCUMENT_21', 'AMT_REQ_CREDIT_BUREAU_HOUR',\n",
       "       'AMT_REQ_CREDIT_BUREAU_DAY', 'AMT_REQ_CREDIT_BUREAU_WEEK',\n",
       "       'AMT_REQ_CREDIT_BUREAU_MON', 'AMT_REQ_CREDIT_BUREAU_QRT',\n",
       "       'AMT_REQ_CREDIT_BUREAU_YEAR'],\n",
       "      dtype='object', length=122)"
      ]
     },
     "execution_count": 7,
     "metadata": {},
     "output_type": "execute_result"
    }
   ],
   "source": [
    "# Label encode the features with 2 categories\n",
    "label_encoder = LabelEncoder()\n",
    "\n",
    "for feat in categorical_features:\n",
    "  if len(train_df[feat].unique()) <= 2:\n",
    "    train_df[feat] = label_encoder.fit_transform(train_df[feat])\n",
    "train_df.columns"
   ]
  },
  {
   "cell_type": "code",
   "execution_count": 8,
   "metadata": {
    "colab": {
     "base_uri": "https://localhost:8080/"
    },
    "id": "9qn9YomvrK8P",
    "outputId": "b672b3c9-43c3-4bb1-edbb-9dbc914fa07a"
   },
   "outputs": [
    {
     "data": {
      "text/plain": [
       "Index(['SK_ID_CURR', 'TARGET', 'NAME_CONTRACT_TYPE', 'FLAG_OWN_CAR',\n",
       "       'FLAG_OWN_REALTY', 'CNT_CHILDREN', 'AMT_INCOME_TOTAL', 'AMT_CREDIT',\n",
       "       'AMT_ANNUITY', 'AMT_GOODS_PRICE',\n",
       "       ...\n",
       "       'FONDKAPREMONT_MODE_reg oper spec account',\n",
       "       'HOUSETYPE_MODE_specific housing', 'HOUSETYPE_MODE_terraced house',\n",
       "       'WALLSMATERIAL_MODE_Mixed', 'WALLSMATERIAL_MODE_Monolithic',\n",
       "       'WALLSMATERIAL_MODE_Others', 'WALLSMATERIAL_MODE_Panel',\n",
       "       'WALLSMATERIAL_MODE_Stone, brick', 'WALLSMATERIAL_MODE_Wooden',\n",
       "       'EMERGENCYSTATE_MODE_Yes'],\n",
       "      dtype='object', length=230)"
      ]
     },
     "execution_count": 8,
     "metadata": {},
     "output_type": "execute_result"
    }
   ],
   "source": [
    "# One-hot encode features with more than 2 categories\n",
    "train_df = pd.get_dummies(train_df, drop_first=True)\n",
    "train_df.columns"
   ]
  },
  {
   "cell_type": "markdown",
   "metadata": {
    "id": "otMGPHnbXqQN"
   },
   "source": [
    "## Anomalies\n",
    "According to the reference notebook, the feature `DAYS_BIRTH` has negative numbers because they are recorded relative to the current loan application. The feature is described as client's age in days at the time of the application.\n",
    "It's easier to find anomalies if we transform to years."
   ]
  },
  {
   "cell_type": "code",
   "execution_count": 9,
   "metadata": {
    "colab": {
     "base_uri": "https://localhost:8080/"
    },
    "id": "vRZDtJMoYFnX",
    "outputId": "2fcc5a76-c804-4eb7-a6e5-0f99ac5b655f"
   },
   "outputs": [
    {
     "data": {
      "text/plain": [
       "count    307511.000000\n",
       "mean         43.936973\n",
       "std          11.956133\n",
       "min          20.517808\n",
       "25%          34.008219\n",
       "50%          43.150685\n",
       "75%          53.923288\n",
       "max          69.120548\n",
       "Name: DAYS_BIRTH, dtype: float64"
      ]
     },
     "execution_count": 9,
     "metadata": {},
     "output_type": "execute_result"
    }
   ],
   "source": [
    "# Convert BIRTH_DAYS to years\n",
    "(train_df['DAYS_BIRTH'] / -365).describe()"
   ]
  },
  {
   "cell_type": "markdown",
   "metadata": {
    "id": "J58tdm61ZdKO"
   },
   "source": [
    "Given the min and the max, there doesn't seem to be any outliers.\n",
    "\n",
    "Now let's look at DAYS_EMPLOYED. This feature is described as:\n",
    ">How many days before the application the person started current employment."
   ]
  },
  {
   "cell_type": "code",
   "execution_count": 10,
   "metadata": {
    "colab": {
     "base_uri": "https://localhost:8080/"
    },
    "id": "ycXL9jWkZn7o",
    "outputId": "6db76fc1-08b1-4e33-92c7-315ec82c0886"
   },
   "outputs": [
    {
     "data": {
      "text/plain": [
       "count    307511.000000\n",
       "mean      63815.045904\n",
       "std      141275.766519\n",
       "min      -17912.000000\n",
       "25%       -2760.000000\n",
       "50%       -1213.000000\n",
       "75%        -289.000000\n",
       "max      365243.000000\n",
       "Name: DAYS_EMPLOYED, dtype: float64"
      ]
     },
     "execution_count": 10,
     "metadata": {},
     "output_type": "execute_result"
    }
   ],
   "source": [
    "train_df['DAYS_EMPLOYED'].describe()"
   ]
  },
  {
   "cell_type": "code",
   "execution_count": 11,
   "metadata": {
    "colab": {
     "base_uri": "https://localhost:8080/",
     "height": 282
    },
    "id": "zR39QV9UZ0q_",
    "outputId": "69ec9a56-c40b-4686-8cc8-8da3423d0e8d"
   },
   "outputs": [
    {
     "data": {
      "text/plain": [
       "<AxesSubplot:ylabel='Frequency'>"
      ]
     },
     "execution_count": 11,
     "metadata": {},
     "output_type": "execute_result"
    },
    {
     "data": {
      "image/png": "[encoded data removed]",
      "text/plain": [
       "<Figure size 432x288 with 1 Axes>"
      ]
     },
     "metadata": {
      "needs_background": "light"
     },
     "output_type": "display_data"
    }
   ],
   "source": [
    "train_df['DAYS_EMPLOYED'].plot.hist(alpha=0.5)"
   ]
  },
  {
   "cell_type": "markdown",
   "metadata": {
    "id": "-mZH08rTbE9O"
   },
   "source": [
    "There's clearly a chunk of samples for this feature that aren't right. It makes no sense for this to be negative and have such a large absolute value. A safe way to deal with this is to set those values to NaN and impute them later."
   ]
  },
  {
   "cell_type": "markdown",
   "metadata": {
    "id": "jIpBL_qKeIeM"
   },
   "source": [
    "Before setting all anomalous values to NaN, check to see if the anomalous clients have any patterns of behavior in terms of credit default (higher or lower rates)."
   ]
  },
  {
   "cell_type": "code",
   "execution_count": 12,
   "metadata": {
    "colab": {
     "base_uri": "https://localhost:8080/"
    },
    "id": "p9VpuI2ucmGD",
    "outputId": "51500555-3ba5-47b9-a853-99b1abaad303"
   },
   "outputs": [
    {
     "name": "stdout",
     "output_type": "stream",
     "text": [
      "Value of days employed anomaly (aka max of days employed column): 365243\n",
      "The non-anomalies default on 8.66% of loans\n",
      "The anomalies default on 5.40% of loans\n",
      "There are 55374 anomalous days of employment\n"
     ]
    }
   ],
   "source": [
    "max_days_employed = train_df['DAYS_EMPLOYED'].max()\n",
    "anom = train_df[train_df['DAYS_EMPLOYED'] == max_days_employed]\n",
    "non_anom = train_df[train_df['DAYS_EMPLOYED'] != max_days_employed]\n",
    "print(f'Value of days employed anomaly (aka max of days employed column):', max_days_employed)\n",
    "print(f'The non-anomalies default on %0.2f%% of loans' % (100 * non_anom['TARGET'].mean()))\n",
    "print(f'The anomalies default on %0.2f%% of loans' % (100 * anom['TARGET'].mean()))\n",
    "print(f'There are %d anomalous days of employment' % len(anom))"
   ]
  },
  {
   "cell_type": "markdown",
   "metadata": {
    "id": "Vt80xPpvetyN"
   },
   "source": [
    "Since the anomalous clients have a lower rate of default, we would like to capture this information in a separate column before clearing the anomalous values. We will fill in the anomalous values with NaN and create a boolean column to indicate whether the value was anomalous or not."
   ]
  },
  {
   "cell_type": "code",
   "execution_count": 13,
   "metadata": {
    "colab": {
     "base_uri": "https://localhost:8080/",
     "height": 316
    },
    "id": "1qBWwp2Ya-89",
    "outputId": "d8ce8626-5f4c-468b-d797-07810443dec7"
   },
   "outputs": [
    {
     "name": "stdout",
     "output_type": "stream",
     "text": [
      "Count of samples with max DAYS_EMPLOYED: 55374\n"
     ]
    },
    {
     "data": {
      "text/plain": [
       "Text(0.5, 0, 'Days employed prior to application')"
      ]
     },
     "execution_count": 13,
     "metadata": {},
     "output_type": "execute_result"
    },
    {
     "data": {
      "image/png": "[encoded data removed]",
      "text/plain": [
       "<Figure size 432x288 with 1 Axes>"
      ]
     },
     "metadata": {
      "needs_background": "light"
     },
     "output_type": "display_data"
    }
   ],
   "source": [
    "# Create an anomalous flag column\n",
    "train_df['DAYS_EMPLOYED_ANOM'] = train_df[\"DAYS_EMPLOYED\"] == max_days_employed\n",
    "\n",
    "# How many samples have the max value as DAYS_EMPLOYED?\n",
    "max_value_count = (train_df['DAYS_EMPLOYED'] == train_df['DAYS_EMPLOYED'].max()).sum()\n",
    "print(f\"Count of samples with max DAYS_EMPLOYED: {max_value_count}\")\n",
    "\n",
    "# Replace all these occurrences with NaN\n",
    "train_df.DAYS_EMPLOYED.replace(\n",
    "    to_replace=train_df.DAYS_EMPLOYED.max(),\n",
    "    value=np.nan,\n",
    "    inplace=True)\n",
    "\n",
    "train_df.DAYS_EMPLOYED.plot.hist(alpha=0.5)\n",
    "plt.xlabel('Days employed prior to application')"
   ]
  },
  {
   "cell_type": "code",
   "execution_count": 14,
   "metadata": {
    "colab": {
     "base_uri": "https://localhost:8080/"
    },
    "id": "t9foY-0BfisD",
    "outputId": "61ed844e-6caf-43dc-aed7-0f0809066930"
   },
   "outputs": [
    {
     "name": "stdout",
     "output_type": "stream",
     "text": [
      "There are 55374 anomalies in the train data out of 307511 entries\n"
     ]
    }
   ],
   "source": [
    "print('There are %d anomalies in the train data out of %d entries' % (train_df[\"DAYS_EMPLOYED_ANOM\"].sum(), len(train_df)))"
   ]
  },
  {
   "cell_type": "markdown",
   "metadata": {
    "id": "FCQ1IZ3HgWb8"
   },
   "source": [
    "## Impute Missing Data"
   ]
  },
  {
   "cell_type": "markdown",
   "metadata": {
    "id": "0_xxAq24hclF"
   },
   "source": [
    "If more than 48% of a column's data is missing, the column will be entirely removed from the dataset. If less than 50% of a column's data is missing, the missing data will be imputed using various methods (mean, median, or mode imputation)"
   ]
  },
  {
   "cell_type": "code",
   "execution_count": 15,
   "metadata": {
    "colab": {
     "base_uri": "https://localhost:8080/",
     "height": 359
    },
    "id": "9cGpNfwGgApR",
    "outputId": "845d1f91-1ea3-41c9-8fe3-6637d3b92f90"
   },
   "outputs": [
    {
     "data": {
      "text/html": [
       "<div>\n",
       "<style scoped>\n",
       "    .dataframe tbody tr th:only-of-type {\n",
       "        vertical-align: middle;\n",
       "    }\n",
       "\n",
       "    .dataframe tbody tr th {\n",
       "        vertical-align: top;\n",
       "    }\n",
       "\n",
       "    .dataframe thead th {\n",
       "        text-align: right;\n",
       "    }\n",
       "</style>\n",
       "<table border=\"1\" class=\"dataframe\">\n",
       "  <thead>\n",
       "    <tr style=\"text-align: right;\">\n",
       "      <th></th>\n",
       "      <th>missing_val</th>\n",
       "      <th>missing_val_percent</th>\n",
       "    </tr>\n",
       "  </thead>\n",
       "  <tbody>\n",
       "    <tr>\n",
       "      <th>COMMONAREA_AVG</th>\n",
       "      <td>214865</td>\n",
       "      <td>69.872297</td>\n",
       "    </tr>\n",
       "    <tr>\n",
       "      <th>COMMONAREA_MEDI</th>\n",
       "      <td>214865</td>\n",
       "      <td>69.872297</td>\n",
       "    </tr>\n",
       "    <tr>\n",
       "      <th>COMMONAREA_MODE</th>\n",
       "      <td>214865</td>\n",
       "      <td>69.872297</td>\n",
       "    </tr>\n",
       "    <tr>\n",
       "      <th>NONLIVINGAPARTMENTS_MEDI</th>\n",
       "      <td>213514</td>\n",
       "      <td>69.432963</td>\n",
       "    </tr>\n",
       "    <tr>\n",
       "      <th>NONLIVINGAPARTMENTS_MODE</th>\n",
       "      <td>213514</td>\n",
       "      <td>69.432963</td>\n",
       "    </tr>\n",
       "    <tr>\n",
       "      <th>NONLIVINGAPARTMENTS_AVG</th>\n",
       "      <td>213514</td>\n",
       "      <td>69.432963</td>\n",
       "    </tr>\n",
       "    <tr>\n",
       "      <th>LIVINGAPARTMENTS_MEDI</th>\n",
       "      <td>210199</td>\n",
       "      <td>68.354953</td>\n",
       "    </tr>\n",
       "    <tr>\n",
       "      <th>LIVINGAPARTMENTS_AVG</th>\n",
       "      <td>210199</td>\n",
       "      <td>68.354953</td>\n",
       "    </tr>\n",
       "    <tr>\n",
       "      <th>LIVINGAPARTMENTS_MODE</th>\n",
       "      <td>210199</td>\n",
       "      <td>68.354953</td>\n",
       "    </tr>\n",
       "    <tr>\n",
       "      <th>FLOORSMIN_MEDI</th>\n",
       "      <td>208642</td>\n",
       "      <td>67.848630</td>\n",
       "    </tr>\n",
       "  </tbody>\n",
       "</table>\n",
       "</div>"
      ],
      "text/plain": [
       "                          missing_val  missing_val_percent\n",
       "COMMONAREA_AVG                 214865            69.872297\n",
       "COMMONAREA_MEDI                214865            69.872297\n",
       "COMMONAREA_MODE                214865            69.872297\n",
       "NONLIVINGAPARTMENTS_MEDI       213514            69.432963\n",
       "NONLIVINGAPARTMENTS_MODE       213514            69.432963\n",
       "NONLIVINGAPARTMENTS_AVG        213514            69.432963\n",
       "LIVINGAPARTMENTS_MEDI          210199            68.354953\n",
       "LIVINGAPARTMENTS_AVG           210199            68.354953\n",
       "LIVINGAPARTMENTS_MODE          210199            68.354953\n",
       "FLOORSMIN_MEDI                 208642            67.848630"
      ]
     },
     "execution_count": 15,
     "metadata": {},
     "output_type": "execute_result"
    }
   ],
   "source": [
    "missing_values = train_df.isna().sum()\n",
    "missing_values_percent = missing_values*100/len(train_df)\n",
    "miss_df = pd.concat(\n",
    "    [missing_values.rename('missing_val'), \n",
    "     missing_values_percent.rename('missing_val_percent')],\n",
    "    axis=1\n",
    ")\n",
    "miss_df.sort_values(by='missing_val_percent', ascending=False).head(10)"
   ]
  },
  {
   "cell_type": "code",
   "execution_count": 16,
   "metadata": {
    "colab": {
     "base_uri": "https://localhost:8080/"
    },
    "id": "x1B7-_aPh0Gu",
    "outputId": "e2051e12-5c33-4457-ad1e-5d620457879c"
   },
   "outputs": [
    {
     "name": "stdout",
     "output_type": "stream",
     "text": [
      "Training data shape before dropping columns: (307511, 231)\n",
      "Number of columns missing 48% or more of the data: 45\n",
      "Training data shape after dropping columns: (307511, 186)\n"
     ]
    }
   ],
   "source": [
    "print(f\"Training data shape before dropping columns:\", train_df.shape)\n",
    "\n",
    "# get columns missing >= 48% of the information\n",
    "missing_48pct = miss_df.loc[miss_df['missing_val_percent'] >= 48]\n",
    "missing_48pct_rows = missing_48pct.index.values\n",
    "\n",
    "print(f\"Number of columns missing 48% or more of the data:\", len(missing_48pct_rows))\n",
    "\n",
    "# Save EXT_SOURCE_1 from getting dropped\n",
    "ext_source_1 = train_df.EXT_SOURCE_1.copy()\n",
    "\n",
    "for row in missing_48pct_rows:\n",
    "  train_df = train_df.drop(row, axis=1)\n",
    "\n",
    "print(f\"Training data shape after dropping columns:\", train_df.shape)"
   ]
  },
  {
   "cell_type": "code",
   "execution_count": 17,
   "metadata": {
    "colab": {
     "base_uri": "https://localhost:8080/",
     "height": 686
    },
    "id": "uXZsq4nMot8C",
    "outputId": "04abea36-9c40-4635-8927-b414904465c7"
   },
   "outputs": [
    {
     "name": "stdout",
     "output_type": "stream",
     "text": [
      "Missing values data shape: (186,)\n"
     ]
    },
    {
     "data": {
      "text/html": [
       "<div>\n",
       "<style scoped>\n",
       "    .dataframe tbody tr th:only-of-type {\n",
       "        vertical-align: middle;\n",
       "    }\n",
       "\n",
       "    .dataframe tbody tr th {\n",
       "        vertical-align: top;\n",
       "    }\n",
       "\n",
       "    .dataframe thead th {\n",
       "        text-align: right;\n",
       "    }\n",
       "</style>\n",
       "<table border=\"1\" class=\"dataframe\">\n",
       "  <thead>\n",
       "    <tr style=\"text-align: right;\">\n",
       "      <th></th>\n",
       "      <th>missing_val</th>\n",
       "      <th>missing_val_percent</th>\n",
       "    </tr>\n",
       "  </thead>\n",
       "  <tbody>\n",
       "    <tr>\n",
       "      <th>EXT_SOURCE_3</th>\n",
       "      <td>60965</td>\n",
       "      <td>19.825307</td>\n",
       "    </tr>\n",
       "    <tr>\n",
       "      <th>DAYS_EMPLOYED</th>\n",
       "      <td>55374</td>\n",
       "      <td>18.007161</td>\n",
       "    </tr>\n",
       "    <tr>\n",
       "      <th>AMT_REQ_CREDIT_BUREAU_HOUR</th>\n",
       "      <td>41519</td>\n",
       "      <td>13.501631</td>\n",
       "    </tr>\n",
       "    <tr>\n",
       "      <th>AMT_REQ_CREDIT_BUREAU_DAY</th>\n",
       "      <td>41519</td>\n",
       "      <td>13.501631</td>\n",
       "    </tr>\n",
       "    <tr>\n",
       "      <th>AMT_REQ_CREDIT_BUREAU_WEEK</th>\n",
       "      <td>41519</td>\n",
       "      <td>13.501631</td>\n",
       "    </tr>\n",
       "    <tr>\n",
       "      <th>AMT_REQ_CREDIT_BUREAU_MON</th>\n",
       "      <td>41519</td>\n",
       "      <td>13.501631</td>\n",
       "    </tr>\n",
       "    <tr>\n",
       "      <th>AMT_REQ_CREDIT_BUREAU_QRT</th>\n",
       "      <td>41519</td>\n",
       "      <td>13.501631</td>\n",
       "    </tr>\n",
       "    <tr>\n",
       "      <th>AMT_REQ_CREDIT_BUREAU_YEAR</th>\n",
       "      <td>41519</td>\n",
       "      <td>13.501631</td>\n",
       "    </tr>\n",
       "    <tr>\n",
       "      <th>DEF_30_CNT_SOCIAL_CIRCLE</th>\n",
       "      <td>1021</td>\n",
       "      <td>0.332021</td>\n",
       "    </tr>\n",
       "    <tr>\n",
       "      <th>DEF_60_CNT_SOCIAL_CIRCLE</th>\n",
       "      <td>1021</td>\n",
       "      <td>0.332021</td>\n",
       "    </tr>\n",
       "    <tr>\n",
       "      <th>OBS_60_CNT_SOCIAL_CIRCLE</th>\n",
       "      <td>1021</td>\n",
       "      <td>0.332021</td>\n",
       "    </tr>\n",
       "    <tr>\n",
       "      <th>OBS_30_CNT_SOCIAL_CIRCLE</th>\n",
       "      <td>1021</td>\n",
       "      <td>0.332021</td>\n",
       "    </tr>\n",
       "    <tr>\n",
       "      <th>EXT_SOURCE_2</th>\n",
       "      <td>660</td>\n",
       "      <td>0.214626</td>\n",
       "    </tr>\n",
       "    <tr>\n",
       "      <th>AMT_GOODS_PRICE</th>\n",
       "      <td>278</td>\n",
       "      <td>0.090403</td>\n",
       "    </tr>\n",
       "    <tr>\n",
       "      <th>AMT_ANNUITY</th>\n",
       "      <td>12</td>\n",
       "      <td>0.003902</td>\n",
       "    </tr>\n",
       "    <tr>\n",
       "      <th>CNT_FAM_MEMBERS</th>\n",
       "      <td>2</td>\n",
       "      <td>0.000650</td>\n",
       "    </tr>\n",
       "    <tr>\n",
       "      <th>DAYS_LAST_PHONE_CHANGE</th>\n",
       "      <td>1</td>\n",
       "      <td>0.000325</td>\n",
       "    </tr>\n",
       "    <tr>\n",
       "      <th>ORGANIZATION_TYPE_Industry: type 10</th>\n",
       "      <td>0</td>\n",
       "      <td>0.000000</td>\n",
       "    </tr>\n",
       "    <tr>\n",
       "      <th>ORGANIZATION_TYPE_Industry: type 1</th>\n",
       "      <td>0</td>\n",
       "      <td>0.000000</td>\n",
       "    </tr>\n",
       "    <tr>\n",
       "      <th>SK_ID_CURR</th>\n",
       "      <td>0</td>\n",
       "      <td>0.000000</td>\n",
       "    </tr>\n",
       "  </tbody>\n",
       "</table>\n",
       "</div>"
      ],
      "text/plain": [
       "                                     missing_val  missing_val_percent\n",
       "EXT_SOURCE_3                               60965            19.825307\n",
       "DAYS_EMPLOYED                              55374            18.007161\n",
       "AMT_REQ_CREDIT_BUREAU_HOUR                 41519            13.501631\n",
       "AMT_REQ_CREDIT_BUREAU_DAY                  41519            13.501631\n",
       "AMT_REQ_CREDIT_BUREAU_WEEK                 41519            13.501631\n",
       "AMT_REQ_CREDIT_BUREAU_MON                  41519            13.501631\n",
       "AMT_REQ_CREDIT_BUREAU_QRT                  41519            13.501631\n",
       "AMT_REQ_CREDIT_BUREAU_YEAR                 41519            13.501631\n",
       "DEF_30_CNT_SOCIAL_CIRCLE                    1021             0.332021\n",
       "DEF_60_CNT_SOCIAL_CIRCLE                    1021             0.332021\n",
       "OBS_60_CNT_SOCIAL_CIRCLE                    1021             0.332021\n",
       "OBS_30_CNT_SOCIAL_CIRCLE                    1021             0.332021\n",
       "EXT_SOURCE_2                                 660             0.214626\n",
       "AMT_GOODS_PRICE                              278             0.090403\n",
       "AMT_ANNUITY                                   12             0.003902\n",
       "CNT_FAM_MEMBERS                                2             0.000650\n",
       "DAYS_LAST_PHONE_CHANGE                         1             0.000325\n",
       "ORGANIZATION_TYPE_Industry: type 10            0             0.000000\n",
       "ORGANIZATION_TYPE_Industry: type 1             0             0.000000\n",
       "SK_ID_CURR                                     0             0.000000"
      ]
     },
     "execution_count": 17,
     "metadata": {},
     "output_type": "execute_result"
    }
   ],
   "source": [
    "missing_values = train_df.isna().sum()\n",
    "missing_values_percent = missing_values*100/len(train_df)\n",
    "miss_df = pd.concat(\n",
    "    [missing_values.rename('missing_val'), \n",
    "     missing_values_percent.rename('missing_val_percent')],\n",
    "    axis=1\n",
    ")\n",
    "print(f\"Missing values data shape:\", missing_values.shape)\n",
    "miss_df.sort_values(by='missing_val_percent', ascending=False).head(20)"
   ]
  },
  {
   "cell_type": "markdown",
   "metadata": {
    "id": "EJgTeTlDgAdA"
   },
   "source": [
    "## Relationships between variables\n",
    "With `.corr` method we can use the Pearson correlation coefficient to find relationships between the features in the training set."
   ]
  },
  {
   "cell_type": "code",
   "execution_count": 18,
   "metadata": {
    "colab": {
     "base_uri": "https://localhost:8080/"
    },
    "id": "Xjmxa_pcem_B",
    "outputId": "d7f23707-cd4e-4c81-d70b-fc57e92c9028"
   },
   "outputs": [
    {
     "name": "stdout",
     "output_type": "stream",
     "text": [
      "Highest positive correlations:\n",
      " REG_CITY_NOT_WORK_CITY         0.050994\n",
      "DAYS_ID_PUBLISH                0.051457\n",
      "CODE_GENDER_M                  0.054713\n",
      "DAYS_LAST_PHONE_CHANGE         0.055218\n",
      "NAME_INCOME_TYPE_Working       0.057481\n",
      "REGION_RATING_CLIENT           0.058899\n",
      "REGION_RATING_CLIENT_W_CITY    0.060893\n",
      "DAYS_EMPLOYED                  0.074958\n",
      "DAYS_BIRTH                     0.078239\n",
      "TARGET                         1.000000\n",
      "Name: TARGET, dtype: float64\n",
      "\n",
      "Highest negative correlations:\n",
      " EXT_SOURCE_3                           -0.178919\n",
      "EXT_SOURCE_2                           -0.160472\n",
      "NAME_EDUCATION_TYPE_Higher education   -0.056593\n",
      "NAME_INCOME_TYPE_Pensioner             -0.046209\n",
      "ORGANIZATION_TYPE_XNA                  -0.045987\n",
      "DAYS_EMPLOYED_ANOM                     -0.045987\n",
      "AMT_GOODS_PRICE                        -0.039645\n",
      "REGION_POPULATION_RELATIVE             -0.037227\n",
      "WALLSMATERIAL_MODE_Panel               -0.033119\n",
      "NAME_CONTRACT_TYPE                     -0.030896\n",
      "Name: TARGET, dtype: float64\n"
     ]
    }
   ],
   "source": [
    "corr_matrix = train_df.corr().TARGET.sort_values()\n",
    "\n",
    "print(f'Highest positive correlations:\\n {corr_matrix.tail(10)}\\n')\n",
    "print(f'Highest negative correlations:\\n {corr_matrix.head(10)}')"
   ]
  },
  {
   "cell_type": "markdown",
   "metadata": {
    "id": "m1e0eC3Gln_V"
   },
   "source": [
    "### Features with highest positive correlation: Effect of age on repayment\n",
    "\n",
    "The feature with highest positive correlation is `DAYS_BIRTH`. Let's look at it in more datail.\n",
    "Positive correlation means that as `DAYS_BIRTH` increases the customer is less likely to repay the loan. However, this `DAYS_BIRTH` is given as negative numbers, it's easier to understand its relationship to `TARGET` if we multiply by -1."
   ]
  },
  {
   "cell_type": "code",
   "execution_count": 19,
   "metadata": {
    "colab": {
     "base_uri": "https://localhost:8080/",
     "height": 312
    },
    "id": "_CowhdRQhmLZ",
    "outputId": "041909d5-4b2d-4e00-d044-f23e8ec982da"
   },
   "outputs": [
    {
     "data": {
      "text/plain": [
       "<matplotlib.legend.Legend at 0x2290c0025f8>"
      ]
     },
     "execution_count": 19,
     "metadata": {},
     "output_type": "execute_result"
    },
    {
     "data": {
      "image/png": "[encoded data removed]",
      "text/plain": [
       "<Figure size 432x288 with 1 Axes>"
      ]
     },
     "metadata": {
      "needs_background": "light"
     },
     "output_type": "display_data"
    }
   ],
   "source": [
    "plt.style.use('seaborn-muted')\n",
    "\n",
    "# Make DAYS_BIRTH positive\n",
    "train_df.DAYS_BIRTH = train_df.DAYS_BIRTH * -1\n",
    "\n",
    "# Plot the distribution of ages in years\n",
    "sns.kdeplot(train_df.loc[train_df.TARGET == 0, 'DAYS_BIRTH'] / 365)\n",
    "sns.kdeplot(train_df.loc[train_df.TARGET == 1, 'DAYS_BIRTH'] / 365)\n",
    "\n",
    "plt.xlabel('Age in years')\n",
    "plt.title('KDE Plot for Applicant Age')\n",
    "plt.legend(['Repaid', 'Not Paid'])"
   ]
  },
  {
   "cell_type": "markdown",
   "metadata": {
    "id": "vJsFF1WvtnUW"
   },
   "source": [
    "From the plot it looks like among the pool of applicants who were not able to repay their loan, the majority of them were younger than 30 years old."
   ]
  },
  {
   "cell_type": "markdown",
   "metadata": {
    "id": "Eim20EAOuamo"
   },
   "source": [
    "### Features with highest negative correlation\n",
    "The three features with highest negative correlation are `EXT_SOURCE_3`, `EXT_SOURCE_2`, `EXT_SOURCE_1`. These are described as *Normalized score from external data source*. \n",
    "\n",
    "Let's look at a heat map of their correlation with `TARGET`."
   ]
  },
  {
   "cell_type": "code",
   "execution_count": 20,
   "metadata": {
    "colab": {
     "base_uri": "https://localhost:8080/",
     "height": 204
    },
    "id": "aVZyn80dtyq1",
    "outputId": "5cbad215-3e6d-4566-e662-c40aa009a4dc"
   },
   "outputs": [
    {
     "data": {
      "text/html": [
       "<div>\n",
       "<style scoped>\n",
       "    .dataframe tbody tr th:only-of-type {\n",
       "        vertical-align: middle;\n",
       "    }\n",
       "\n",
       "    .dataframe tbody tr th {\n",
       "        vertical-align: top;\n",
       "    }\n",
       "\n",
       "    .dataframe thead th {\n",
       "        text-align: right;\n",
       "    }\n",
       "</style>\n",
       "<table border=\"1\" class=\"dataframe\">\n",
       "  <thead>\n",
       "    <tr style=\"text-align: right;\">\n",
       "      <th></th>\n",
       "      <th>EXT_SOURCE_1</th>\n",
       "      <th>EXT_SOURCE_2</th>\n",
       "      <th>EXT_SOURCE_3</th>\n",
       "      <th>DAYS_BIRTH</th>\n",
       "      <th>TARGET</th>\n",
       "    </tr>\n",
       "  </thead>\n",
       "  <tbody>\n",
       "    <tr>\n",
       "      <th>EXT_SOURCE_1</th>\n",
       "      <td>1.000000</td>\n",
       "      <td>0.213982</td>\n",
       "      <td>0.186846</td>\n",
       "      <td>0.600610</td>\n",
       "      <td>-0.155317</td>\n",
       "    </tr>\n",
       "    <tr>\n",
       "      <th>EXT_SOURCE_2</th>\n",
       "      <td>0.213982</td>\n",
       "      <td>1.000000</td>\n",
       "      <td>0.109167</td>\n",
       "      <td>0.091996</td>\n",
       "      <td>-0.160472</td>\n",
       "    </tr>\n",
       "    <tr>\n",
       "      <th>EXT_SOURCE_3</th>\n",
       "      <td>0.186846</td>\n",
       "      <td>0.109167</td>\n",
       "      <td>1.000000</td>\n",
       "      <td>0.205478</td>\n",
       "      <td>-0.178919</td>\n",
       "    </tr>\n",
       "    <tr>\n",
       "      <th>DAYS_BIRTH</th>\n",
       "      <td>0.600610</td>\n",
       "      <td>0.091996</td>\n",
       "      <td>0.205478</td>\n",
       "      <td>1.000000</td>\n",
       "      <td>-0.078239</td>\n",
       "    </tr>\n",
       "    <tr>\n",
       "      <th>TARGET</th>\n",
       "      <td>-0.155317</td>\n",
       "      <td>-0.160472</td>\n",
       "      <td>-0.178919</td>\n",
       "      <td>-0.078239</td>\n",
       "      <td>1.000000</td>\n",
       "    </tr>\n",
       "  </tbody>\n",
       "</table>\n",
       "</div>"
      ],
      "text/plain": [
       "              EXT_SOURCE_1  EXT_SOURCE_2  EXT_SOURCE_3  DAYS_BIRTH    TARGET\n",
       "EXT_SOURCE_1      1.000000      0.213982      0.186846    0.600610 -0.155317\n",
       "EXT_SOURCE_2      0.213982      1.000000      0.109167    0.091996 -0.160472\n",
       "EXT_SOURCE_3      0.186846      0.109167      1.000000    0.205478 -0.178919\n",
       "DAYS_BIRTH        0.600610      0.091996      0.205478    1.000000 -0.078239\n",
       "TARGET           -0.155317     -0.160472     -0.178919   -0.078239  1.000000"
      ]
     },
     "execution_count": 20,
     "metadata": {},
     "output_type": "execute_result"
    }
   ],
   "source": [
    "# Add EXT_SOURCE_1 back to train_df\n",
    "train_df['EXT_SOURCE_1'] = ext_source_1\n",
    "\n",
    "features = ['EXT_SOURCE_1', 'EXT_SOURCE_2', 'EXT_SOURCE_3', 'DAYS_BIRTH', 'TARGET']\n",
    "ext_corr = train_df[features].corr()\n",
    "ext_corr"
   ]
  },
  {
   "cell_type": "code",
   "execution_count": 21,
   "metadata": {
    "colab": {
     "base_uri": "https://localhost:8080/",
     "height": 353
    },
    "id": "UjB13CYgv9F4",
    "outputId": "9f1b7334-a8bd-4ddf-e9be-9584e86d3204"
   },
   "outputs": [
    {
     "data": {
      "text/plain": [
       "<AxesSubplot:>"
      ]
     },
     "execution_count": 21,
     "metadata": {},
     "output_type": "execute_result"
    },
    {
     "data": {
      "image/png": "[encoded data removed]",
      "text/plain": [
       "<Figure size 432x288 with 2 Axes>"
      ]
     },
     "metadata": {
      "needs_background": "light"
     },
     "output_type": "display_data"
    }
   ],
   "source": [
    "sns.heatmap(ext_corr, annot=True)"
   ]
  },
  {
   "cell_type": "markdown",
   "metadata": {
    "id": "Yp5-25kzwf-H"
   },
   "source": [
    "The correlation matrix tells us that as the value of the external source features increases, the customer is more likely to repay the loan. Similarly, as the age of the customer increases, the higher the chance of the loan to be repaid."
   ]
  },
  {
   "cell_type": "markdown",
   "metadata": {
    "id": "dCm9mOFP0yGT"
   },
   "source": [
    "## Feature Engineering\n",
    "\n",
    "### Polynomial features\n"
   ]
  },
  {
   "cell_type": "code",
   "execution_count": 22,
   "metadata": {
    "colab": {
     "base_uri": "https://localhost:8080/"
    },
    "id": "GEi9HQw307nN",
    "outputId": "646e27d3-5cb6-4c02-d755-a67d2317d315"
   },
   "outputs": [
    {
     "data": {
      "text/plain": [
       "['1',\n",
       " 'EXT_SOURCE_1',\n",
       " 'EXT_SOURCE_2',\n",
       " 'EXT_SOURCE_3',\n",
       " 'DAYS_BIRTH',\n",
       " 'EXT_SOURCE_1^2',\n",
       " 'EXT_SOURCE_1 EXT_SOURCE_2',\n",
       " 'EXT_SOURCE_1 EXT_SOURCE_3',\n",
       " 'EXT_SOURCE_1 DAYS_BIRTH',\n",
       " 'EXT_SOURCE_2^2',\n",
       " 'EXT_SOURCE_2 EXT_SOURCE_3',\n",
       " 'EXT_SOURCE_2 DAYS_BIRTH',\n",
       " 'EXT_SOURCE_3^2',\n",
       " 'EXT_SOURCE_3 DAYS_BIRTH',\n",
       " 'DAYS_BIRTH^2',\n",
       " 'EXT_SOURCE_1^3',\n",
       " 'EXT_SOURCE_1^2 EXT_SOURCE_2',\n",
       " 'EXT_SOURCE_1^2 EXT_SOURCE_3',\n",
       " 'EXT_SOURCE_1^2 DAYS_BIRTH',\n",
       " 'EXT_SOURCE_1 EXT_SOURCE_2^2',\n",
       " 'EXT_SOURCE_1 EXT_SOURCE_2 EXT_SOURCE_3',\n",
       " 'EXT_SOURCE_1 EXT_SOURCE_2 DAYS_BIRTH',\n",
       " 'EXT_SOURCE_1 EXT_SOURCE_3^2',\n",
       " 'EXT_SOURCE_1 EXT_SOURCE_3 DAYS_BIRTH',\n",
       " 'EXT_SOURCE_1 DAYS_BIRTH^2',\n",
       " 'EXT_SOURCE_2^3',\n",
       " 'EXT_SOURCE_2^2 EXT_SOURCE_3',\n",
       " 'EXT_SOURCE_2^2 DAYS_BIRTH',\n",
       " 'EXT_SOURCE_2 EXT_SOURCE_3^2',\n",
       " 'EXT_SOURCE_2 EXT_SOURCE_3 DAYS_BIRTH',\n",
       " 'EXT_SOURCE_2 DAYS_BIRTH^2',\n",
       " 'EXT_SOURCE_3^3',\n",
       " 'EXT_SOURCE_3^2 DAYS_BIRTH',\n",
       " 'EXT_SOURCE_3 DAYS_BIRTH^2',\n",
       " 'DAYS_BIRTH^3']"
      ]
     },
     "execution_count": 22,
     "metadata": {},
     "output_type": "execute_result"
    }
   ],
   "source": [
    "from sklearn.impute import SimpleImputer \n",
    "from sklearn.preprocessing import PolynomialFeatures\n",
    "\n",
    "# Make new df with polynomial features\n",
    "poly_features = train_df[features]\n",
    "\n",
    "# Assign variables\n",
    "y = poly_features.TARGET\n",
    "X = poly_features.drop(columns='TARGET')\n",
    "\n",
    "# Handle missing values\n",
    "imputer = SimpleImputer(strategy='median')\n",
    "X = imputer.fit_transform(X)\n",
    "\n",
    "# Create polynomial features\n",
    "poly = PolynomialFeatures(degree=3)\n",
    "X = poly.fit_transform(X)\n",
    "poly.get_feature_names(features[:-1])"
   ]
  }
 ],
 "metadata": {
  "colab": {
   "collapsed_sections": [],
   "include_colab_link": true,
   "name": "project-data_exploration.ipynb",
   "provenance": [],
   "toc_visible": true
  },
  "kernelspec": {
   "display_name": "Python 3",
   "language": "python",
   "name": "python3"
  },
  "language_info": {
   "codemirror_mode": {
    "name": "ipython",
    "version": 3
   },
   "file_extension": ".py",
   "mimetype": "text/x-python",
   "name": "python",
   "nbconvert_exporter": "python",
   "pygments_lexer": "ipython3",
   "version": "3.7.1"
  }
 },
 "nbformat": 4,
 "nbformat_minor": 1
}
